{
  "nbformat": 4,
  "nbformat_minor": 0,
  "metadata": {
    "colab": {
      "name": "dlf.ipynb",
      "provenance": [],
      "collapsed_sections": [],
      "machine_shape": "hm"
    },
    "kernelspec": {
      "name": "python3",
      "display_name": "Python 3"
    },
    "language_info": {
      "name": "python"
    },
    "accelerator": "GPU"
  },
  "cells": [
    {
      "cell_type": "code",
      "execution_count": null,
      "metadata": {
        "id": "uk463lz6ghY_"
      },
      "outputs": [],
      "source": [
        "import numpy as np\n",
        "import pandas as pd\n",
        "import matplotlib.pyplot as plt\n",
        "!pip install pyyaml==5.4.1"
      ]
    },
    {
      "cell_type": "code",
      "source": [
        "!pip install darts\n",
        "import darts\n",
        "\n",
        "from darts import TimeSeries\n",
        "from darts.models import NBEATSModel\n",
        "from darts.models import BlockRNNModel\n",
        "from darts.models import NHiTS\n",
        "from darts.models import TCNModel\n",
        "from darts.models import TFTModel\n",
        "from darts.models import TransformerModel\n",
        "from darts.models import ARIMA\n",
        "from darts.dataprocessing.transformers import Scaler, MissingValuesFiller\n",
        "from darts.metrics import mape, r2_score\n",
        "from darts.datasets import EnergyDataset"
      ],
      "metadata": {
        "id": "2PtpaefWg8JR"
      },
      "execution_count": null,
      "outputs": []
    },
    {
      "cell_type": "code",
      "source": [
        "import numpy as np\n",
        "import pandas as pd\n",
        "import matplotlib.pyplot as plt"
      ],
      "metadata": {
        "id": "SEmvZaGyhuLy"
      },
      "execution_count": null,
      "outputs": []
    },
    {
      "cell_type": "code",
      "source": [
        "def display_forecast(pred_series, ts_transformed, forecast_type, start_date=None):\n",
        "    plt.figure(figsize=(8, 5))\n",
        "    if start_date:\n",
        "        ts_transformed = ts_transformed.drop_before(start_date)\n",
        "    ts_transformed.univariate_component(0).plot(label=\"actual\")\n",
        "    pred_series.plot(label=(\"historic \" + forecast_type + \" forecasts\"))\n",
        "    plt.title(\n",
        "        \"R2: {}\".format(r2_score(ts_transformed.univariate_component(0), pred_series))\n",
        "    )\n",
        "    plt.legend()"
      ],
      "metadata": {
        "id": "sk1WJhNWhyYy"
      },
      "execution_count": null,
      "outputs": []
    },
    {
      "cell_type": "code",
      "source": [
        "import pandas as pd"
      ],
      "metadata": {
        "id": "z4rdjFUAh1Ob"
      },
      "execution_count": null,
      "outputs": []
    },
    {
      "cell_type": "markdown",
      "source": [
        "M3 开始"
      ],
      "metadata": {
        "id": "g5ga9O4eh51q"
      }
    },
    {
      "cell_type": "code",
      "source": [
        "data=TimeSeries.from_csv('/content/drive/MyDrive/M3_data_Quart.csv',time_col='Quart')\n",
        "N_Beatsm=NBEATSModel(input_chunk_length=12,output_chunk_length=6,torch_device_str='cuda:0')\n",
        "N_Beatsm.fit(data)\n",
        "N_Beatsp=N_Beatsm.predict(6)"
      ],
      "metadata": {
        "id": "-OeGGS1th3xK"
      },
      "execution_count": null,
      "outputs": []
    },
    {
      "cell_type": "code",
      "source": [
        "N_Beatsm1=NBEATSModel(input_chunk_length=12,output_chunk_length=6,num_stacks=10,num_blocks=4,num_layers=5,layer_widths=256,\n",
        "    n_epochs=100,\n",
        "    nr_epochs_val_period=1,\n",
        "    batch_size=32,\n",
        "    model_name=\"nbeats_run\",torch_device_str='cuda:0')\n",
        "N_Beatsm1.fit(data)"
      ],
      "metadata": {
        "id": "C3YE84PkiEnW"
      },
      "execution_count": null,
      "outputs": []
    },
    {
      "cell_type": "code",
      "source": [
        "N_Beatsm2=NBEATSModel(input_chunk_length=12,output_chunk_length=6,num_stacks=10,num_blocks=2,num_layers=4,layer_widths=512,\n",
        "    n_epochs=100,\n",
        "    nr_epochs_val_period=1,\n",
        "    batch_size=400,\n",
        "    model_name=\"nbeats_run\",torch_device_str='cuda:0')\n",
        "N_Beatsm2.fit(data)"
      ],
      "metadata": {
        "id": "6MgQECN0iFUj"
      },
      "execution_count": null,
      "outputs": []
    },
    {
      "cell_type": "code",
      "source": [
        "N_Beatsm3=NBEATSModel(input_chunk_length=12,output_chunk_length=6,model_name=\"nbeats_run\",torch_device_str='cuda:0')\n",
        "N_Beatsm3.fit(data)"
      ],
      "metadata": {
        "id": "kqup_q3AiIAq"
      },
      "execution_count": null,
      "outputs": []
    },
    {
      "cell_type": "code",
      "source": [
        "N_Beatsm4=NBEATSModel(input_chunk_length=12,output_chunk_length=6,num_stacks=5,num_blocks=2,num_layers=4,layer_widths=512,\n",
        "    n_epochs=100,\n",
        "    nr_epochs_val_period=1,\n",
        "    batch_size=400,\n",
        "    model_name=\"nbeats_run\",torch_device_str='cuda:0')\n",
        "N_Beatsm4.fit(data)"
      ],
      "metadata": {
        "id": "eqQy7s1-iqpZ"
      },
      "execution_count": null,
      "outputs": []
    },
    {
      "cell_type": "code",
      "source": [
        "real_data=TimeSeries.from_csv('/content/drive/MyDrive/M3_realdata_quart.csv',time_col='Quart')"
      ],
      "metadata": {
        "id": "sJwWU8piitgJ"
      },
      "execution_count": null,
      "outputs": []
    },
    {
      "cell_type": "code",
      "source": [
        "N_Beatsp=N_Beatsm.predict(6)\n",
        "N_Beatsp1=N_Beatsm1.predict(6)\n",
        "N_Beatsp2=N_Beatsm2.predict(6)\n",
        "N_Beatsp3=N_Beatsm3.predict(6)\n",
        "N_Beatsp4=N_Beatsm4.predict(6)"
      ],
      "metadata": {
        "id": "4FW8_jFdiw-f"
      },
      "execution_count": null,
      "outputs": []
    },
    {
      "cell_type": "code",
      "source": [
        "b3=(N_Beatsp+N_Beatsp1+N_Beatsp2+N_Beatsp3+N_Beatsp4)/5"
      ],
      "metadata": {
        "id": "awHJRpqTUnk7"
      },
      "execution_count": null,
      "outputs": []
    },
    {
      "cell_type": "code",
      "source": [
        "from darts.metrics import mape"
      ],
      "metadata": {
        "id": "Otd-EfGVi1kw"
      },
      "execution_count": null,
      "outputs": []
    },
    {
      "cell_type": "code",
      "source": [
        "mape(real_data,b3)"
      ],
      "metadata": {
        "id": "pd9DAkfaU0tH"
      },
      "execution_count": null,
      "outputs": []
    },
    {
      "cell_type": "code",
      "source": [
        "# picture\n",
        "ture=real_data['1']\n",
        "pred=b3['1']\n",
        "\n",
        "ture.plot(label='Ture value')\n",
        "pred.plot(label='Predict value')"
      ],
      "metadata": {
        "id": "gN6vmyRyAaKf"
      },
      "execution_count": null,
      "outputs": []
    },
    {
      "cell_type": "code",
      "source": [
        "mape(real_data,N_Beatsp)"
      ],
      "metadata": {
        "id": "g828DoOki-5S"
      },
      "execution_count": null,
      "outputs": []
    },
    {
      "cell_type": "code",
      "source": [
        "mape(real_data,N_Beatsp1)"
      ],
      "metadata": {
        "id": "rEKG-_m39DmS"
      },
      "execution_count": null,
      "outputs": []
    },
    {
      "cell_type": "code",
      "source": [
        "mape(real_data,N_Beatsp2)"
      ],
      "metadata": {
        "id": "JlAfIiRn9N8l"
      },
      "execution_count": null,
      "outputs": []
    },
    {
      "cell_type": "code",
      "source": [
        "mape(real_data,N_Beatsp3)"
      ],
      "metadata": {
        "id": "xWDeJPvj9R86"
      },
      "execution_count": null,
      "outputs": []
    },
    {
      "cell_type": "code",
      "source": [
        "mape(real_data,N_Beatsp4)"
      ],
      "metadata": {
        "id": "QUeOJsHG9Ui2"
      },
      "execution_count": null,
      "outputs": []
    },
    {
      "cell_type": "markdown",
      "source": [
        "别的model"
      ],
      "metadata": {
        "id": "DkuRGGeE2cKb"
      }
    },
    {
      "cell_type": "code",
      "source": [
        "data2=TimeSeries.from_csv('/content/drive/MyDrive/M3_data_Quart.csv',time_col='Quart')\n",
        "Block=BlockRNNModel(input_chunk_length=12,output_chunk_length=6)\n",
        "Block.fit(data2)\n",
        "Blocksp=Block.predict(6)"
      ],
      "metadata": {
        "id": "wn5G-dDk2fGz"
      },
      "execution_count": null,
      "outputs": []
    },
    {
      "cell_type": "code",
      "source": [
        "mape(real_data,Blocksp)"
      ],
      "metadata": {
        "id": "2jQ38CLb2iNC"
      },
      "execution_count": null,
      "outputs": []
    },
    {
      "cell_type": "code",
      "source": [
        "# picture\n",
        "ture1=real_data['1']\n",
        "pred1=Blocksp['1']\n",
        "\n",
        "ture1.plot(label='Ture value')\n",
        "pred1.plot(label='Predict value')"
      ],
      "metadata": {
        "id": "5j28BX8CD7em"
      },
      "execution_count": null,
      "outputs": []
    },
    {
      "cell_type": "code",
      "source": [
        "data3=TimeSeries.from_csv('/content/drive/MyDrive/M3_data_Quart.csv',time_col='Quart')\n",
        "NH=NHiTS(input_chunk_length=12,output_chunk_length=6)\n",
        "NH.fit(data3)\n",
        "NHspp=NH.predict(6)"
      ],
      "metadata": {
        "id": "-Kmqh7W-2kfp"
      },
      "execution_count": null,
      "outputs": []
    },
    {
      "cell_type": "code",
      "source": [
        "mape(real_data,NHspp)"
      ],
      "metadata": {
        "id": "q3EqnnTX2mjk"
      },
      "execution_count": null,
      "outputs": []
    },
    {
      "cell_type": "code",
      "source": [
        "# pictyre\n",
        "ture2=real_data['1']\n",
        "pred2=NHspp['1']\n",
        "\n",
        "ture2.plot(label='Ture value')\n",
        "pred2.plot(label='Predict value')"
      ],
      "metadata": {
        "id": "DmR73elTFMf1"
      },
      "execution_count": null,
      "outputs": []
    },
    {
      "cell_type": "code",
      "source": [
        "data4=TimeSeries.from_csv('/content/drive/MyDrive/M3_data_Quart.csv',time_col='Quart')\n",
        "TCN=TCNModel(input_chunk_length=12,output_chunk_length=6)\n",
        "TCN.fit(data4)\n",
        "TCNspp=TCN.predict(6)"
      ],
      "metadata": {
        "id": "DBYuCgvu2osi"
      },
      "execution_count": null,
      "outputs": []
    },
    {
      "cell_type": "code",
      "source": [
        "mape(real_data,TCNspp)"
      ],
      "metadata": {
        "id": "W1blmWSl2rIX"
      },
      "execution_count": null,
      "outputs": []
    },
    {
      "cell_type": "code",
      "source": [
        "ture3=real_data['1']\n",
        "pred3=TCNspp['1']\n",
        "\n",
        "ture3.plot(label='Ture value')\n",
        "pred3.plot(label='Predict value')"
      ],
      "metadata": {
        "id": "eS4gNNwyGGSG"
      },
      "execution_count": null,
      "outputs": []
    },
    {
      "cell_type": "code",
      "source": [
        "data5=TimeSeries.from_csv('/content/drive/MyDrive/M3_data_Quart.csv',time_col='Quart')\n",
        "Tr=TransformerModel(input_chunk_length=12,output_chunk_length=6)\n",
        "Tr.fit(data)\n",
        "Trspp=Tr.predict(6)"
      ],
      "metadata": {
        "id": "j47yyAMS2s6J"
      },
      "execution_count": null,
      "outputs": []
    },
    {
      "cell_type": "code",
      "source": [
        "mape(real_data,Trspp)"
      ],
      "metadata": {
        "id": "HLbJay9h2woC"
      },
      "execution_count": null,
      "outputs": []
    },
    {
      "cell_type": "code",
      "source": [
        "ture4=real_data['2']\n",
        "pred4=Trspp['2']\n",
        "\n",
        "ture4.plot(label='Ture value')\n",
        "pred4.plot(label='Predict value')"
      ],
      "metadata": {
        "id": "zoXiqDBkH3zf"
      },
      "execution_count": null,
      "outputs": []
    },
    {
      "cell_type": "markdown",
      "source": [
        "M3 可解释性"
      ],
      "metadata": {
        "id": "qxyOkMIzIh49"
      }
    },
    {
      "cell_type": "code",
      "source": [
        "data=TimeSeries.from_csv('/content/drive/MyDrive/M3_data_Quart.csv',time_col='Quart')"
      ],
      "metadata": {
        "id": "HDz8USrPKeo4"
      },
      "execution_count": null,
      "outputs": []
    },
    {
      "cell_type": "code",
      "source": [
        "N_Beat_i=NBEATSModel(input_chunk_length=12,output_chunk_length=6,num_blocks=3,num_layers=4,layer_widths=256,\n",
        "    n_epochs=100,\n",
        "    nr_epochs_val_period=1,\n",
        "    batch_size=32,\n",
        "    model_name=\"nbeats_interpretable_run\",torch_device_str='cuda:0')\n",
        "N_Beat_i.fit(data)\n",
        "N_Beat_isp=N_Beat_i.predict(6)"
      ],
      "metadata": {
        "id": "V6pOEzcjIhYt"
      },
      "execution_count": null,
      "outputs": []
    },
    {
      "cell_type": "code",
      "source": [
        "N_Beat_i1=NBEATSModel(input_chunk_length=12,output_chunk_length=6,num_blocks=3,num_layers=4,layer_widths=128,\n",
        "    n_epochs=100,\n",
        "    nr_epochs_val_period=1,\n",
        "    batch_size=16,\n",
        "    model_name=\"nbeats_interpretable_run\",torch_device_str='cuda:0')\n",
        "N_Beat_i1.fit(data)\n",
        "N_Beat_i1sp=N_Beat_i1.predict(6)"
      ],
      "metadata": {
        "id": "1eOsYXyhK2aQ"
      },
      "execution_count": null,
      "outputs": []
    },
    {
      "cell_type": "code",
      "source": [
        "N_Beat_i2=NBEATSModel(input_chunk_length=12,output_chunk_length=6,num_blocks=3,num_layers=5,layer_widths=256,\n",
        "    n_epochs=100,\n",
        "    nr_epochs_val_period=1,\n",
        "    batch_size=32,\n",
        "    model_name=\"nbeats_interpretable_run\",torch_device_str='cuda:0')\n",
        "N_Beat_i2.fit(data)\n",
        "N_Beat_i2sp=N_Beat_i1.predict(6)"
      ],
      "metadata": {
        "id": "3jO1PCDhgO-h"
      },
      "execution_count": null,
      "outputs": []
    },
    {
      "cell_type": "code",
      "source": [
        "b3=(N_Beat_isp+N_Beat_i1sp+N_Beat_i2sp)/3"
      ],
      "metadata": {
        "id": "DNEXr0AIgV3R"
      },
      "execution_count": null,
      "outputs": []
    },
    {
      "cell_type": "code",
      "source": [
        "mape(real_data,b3)"
      ],
      "metadata": {
        "id": "Etwb1InRNkeX"
      },
      "execution_count": null,
      "outputs": []
    },
    {
      "cell_type": "code",
      "source": [
        "ture5=real_data['1']\n",
        "pred5=b3['1']\n",
        "\n",
        "ture5.plot(label='Ture value')\n",
        "pred5.plot(label='Predict value')"
      ],
      "metadata": {
        "id": "ZovSYj03LAKV"
      },
      "execution_count": null,
      "outputs": []
    }
  ]
}